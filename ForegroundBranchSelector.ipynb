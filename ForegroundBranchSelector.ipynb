{
 "cells": [
  {
   "cell_type": "code",
   "execution_count": 3,
   "metadata": {},
   "outputs": [],
   "source": [
    "import re\n",
    "\n",
    "# Function to generate all Newick files with each gene marked as foreground\n",
    "def generate_all_foreground_newicks(newick_tree):\n",
    "    # Find all gene names using regex\n",
    "    gene_pattern = r\"(Glyma\\.\\d+G\\d+\\.\\d+)\"\n",
    "    genes = re.findall(gene_pattern, newick_tree)\n",
    "    \n",
    "    for gene in genes:\n",
    "        # Reset the tree for each gene (to keep the original intact)\n",
    "        modified_tree = newick_tree\n",
    "        \n",
    "        # Loop through all genes to mark the current one as foreground and others unmarked\n",
    "        for target_gene in genes:\n",
    "            if target_gene == gene:\n",
    "                modified_tree = modified_tree.replace(target_gene, f\"{target_gene}#1\")\n",
    "            else:\n",
    "                modified_tree = modified_tree.replace(f\"{target_gene}#1\", target_gene)  # Remove any previous #1 markings\n",
    "        \n",
    "        # Save the modified tree in a file named after the current gene\n",
    "        file_name = f\"{gene}.treefile\"\n",
    "        with open(file_name, \"w\") as file:\n",
    "            file.write(modified_tree)\n",
    "        print(f\"File {file_name} created successfully.\")\n",
    "\n",
    "\n"
   ]
  },
  {
   "cell_type": "code",
   "execution_count": 13,
   "metadata": {},
   "outputs": [
    {
     "name": "stdout",
     "output_type": "stream",
     "text": [
      "File Glyma.20G163200.1.treefile created successfully.\n",
      "File Glyma.10G230200.1.treefile created successfully.\n",
      "File Glyma.16G176700.1.treefile created successfully.\n",
      "File Glyma.16G177000.1.treefile created successfully.\n",
      "File Glyma.09G129100.1.treefile created successfully.\n",
      "File Glyma.08G018300.1.treefile created successfully.\n",
      "File Glyma.05G211900.1.treefile created successfully.\n",
      "File Glyma.11G021200.1.treefile created successfully.\n",
      "File Glyma.01G222300.1.treefile created successfully.\n",
      "File Glyma.13G289400.1.treefile created successfully.\n",
      "File Glyma.12G212300.1.treefile created successfully.\n",
      "File Glyma.08G118200.1.treefile created successfully.\n",
      "File Glyma.05G160800.1.treefile created successfully.\n",
      "File Glyma.19G217000.1.treefile created successfully.\n",
      "File Glyma.03G220100.1.treefile created successfully.\n",
      "File Glyma.15G135600.1.treefile created successfully.\n",
      "File Glyma.09G029800.1.treefile created successfully.\n",
      "File Glyma.08G078700.1.treefile created successfully.\n",
      "File Glyma.05G123600.1.treefile created successfully.\n",
      "File Glyma.16G031900.1.treefile created successfully.\n",
      "File Glyma.18G238200.1.treefile created successfully.\n",
      "File Glyma.09G254800.1.treefile created successfully.\n"
     ]
    }
   ],
   "source": [
    "# Read the Newick tree from newick.nwk\n",
    "with open(\"C8b/MSA_PRANK_C8b.fasta.treefile\", \"r\") as file:\n",
    "    newick_tree = file.read().strip()\n",
    "\n",
    "# Call the function to generate the trees for all genes\n",
    "generate_all_foreground_newicks(newick_tree)"
   ]
  }
 ],
 "metadata": {
  "kernelspec": {
   "display_name": "Python 3",
   "language": "python",
   "name": "python3"
  },
  "language_info": {
   "codemirror_mode": {
    "name": "ipython",
    "version": 3
   },
   "file_extension": ".py",
   "mimetype": "text/x-python",
   "name": "python",
   "nbconvert_exporter": "python",
   "pygments_lexer": "ipython3",
   "version": "3.11.0"
  }
 },
 "nbformat": 4,
 "nbformat_minor": 2
}
